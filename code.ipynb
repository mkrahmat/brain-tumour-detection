{
  "cells": [
    {
      "cell_type": "code",
      "execution_count": null,
      "id": "99a67b5f-5ce4-477c-a490-165b428d9a8c",
      "metadata": {
        "id": "99a67b5f-5ce4-477c-a490-165b428d9a8c"
      },
      "outputs": [],
      "source": [
        "import os\n",
        "import numpy as np\n",
        "import torch\n",
        "from torch.utils.data import DataLoader\n",
        "from torchvision import datasets, transforms\n",
        "import matplotlib.pyplot as plt\n",
        "from sklearn.utils import shuffle\n",
        "import pandas as pd"
      ]
    },
    {
      "cell_type": "code",
      "execution_count": null,
      "id": "gWkQswvO6nn3",
      "metadata": {
        "id": "gWkQswvO6nn3"
      },
      "outputs": [],
      "source": [
        "import os\n",
        "os.environ['CUDA_LAUNCH_BLOCKING'] = \"1\"\n",
        "\n",
        "# Your PyTorch code here\n"
      ]
    },
    {
      "cell_type": "code",
      "execution_count": null,
      "id": "a6885ef6-0c83-4062-aaba-f97251c17360",
      "metadata": {
        "id": "a6885ef6-0c83-4062-aaba-f97251c17360"
      },
      "outputs": [],
      "source": [
        "# Define class names\n",
        "class_names = ['glioma_tumor','meningioma_tumor','no_tumor','pituitary_tumor']\n",
        "class_names_label = {class_name: i for i, class_name in enumerate(class_names)}\n",
        "nb_classes = len(class_names)\n",
        "\n",
        "IMAGE_SIZE = (32,32)\n",
        "BATCH_SIZE = 32"
      ]
    },
    {
      "cell_type": "code",
      "execution_count": null,
      "id": "8672dd3d-5dd9-45e4-858d-f6c52f7c1da3",
      "metadata": {
        "id": "8672dd3d-5dd9-45e4-858d-f6c52f7c1da3"
      },
      "outputs": [],
      "source": [
        "# Define transformations (data preprocessing)\n",
        "transform = transforms.Compose([\n",
        "    transforms.Resize(IMAGE_SIZE),\n",
        "    transforms.ToTensor(),\n",
        "    transforms.Normalize([0.485, 0.456, 0.406], [0.229, 0.224, 0.225])\n",
        "])"
      ]
    },
    {
      "cell_type": "code",
      "execution_count": null,
      "id": "w06tZIF_3QHO",
      "metadata": {
        "id": "w06tZIF_3QHO"
      },
      "outputs": [],
      "source": []
    },
    {
      "cell_type": "code",
      "execution_count": null,
      "id": "loyYDCq-3Qo5",
      "metadata": {
        "colab": {
          "base_uri": "https://localhost:8080/"
        },
        "id": "loyYDCq-3Qo5",
        "outputId": "9a67c4ae-02e6-4bd3-d4ae-84a931f40636"
      },
      "outputs": [],
      "source": [
        "from google.colab import drive\n",
        "drive.mount('/content/drive')"
      ]
    },
    {
      "cell_type": "code",
      "execution_count": null,
      "id": "c57720bf-9604-44e9-b4a7-f2102b03d55a",
      "metadata": {
        "id": "c57720bf-9604-44e9-b4a7-f2102b03d55a"
      },
      "outputs": [],
      "source": [
        "# Load datasets\n",
        "train_dataset = datasets.ImageFolder(root='/content/drive/MyDrive/Colab Notebooks/ccatract detection using VAEs/train', transform=transform)\n",
        "test_dataset = datasets.ImageFolder(root='/content/drive/MyDrive/Colab Notebooks/ccatract detection using VAEs/test', transform=transform)\n"
      ]
    },
    {
      "cell_type": "code",
      "execution_count": null,
      "id": "b9388460-e227-47df-9318-adfbddf3f1fb",
      "metadata": {
        "id": "b9388460-e227-47df-9318-adfbddf3f1fb"
      },
      "outputs": [],
      "source": [
        "train_loader = DataLoader(train_dataset, batch_size=BATCH_SIZE, shuffle=True)\n",
        "test_loader = DataLoader(test_dataset, batch_size=BATCH_SIZE, shuffle=False)"
      ]
    },
    {
      "cell_type": "code",
      "execution_count": null,
      "id": "039a9307-ca05-44ba-870d-9c65bffef86b",
      "metadata": {
        "colab": {
          "base_uri": "https://localhost:8080/"
        },
        "id": "039a9307-ca05-44ba-870d-9c65bffef86b",
        "outputId": "a08f5f58-ce6f-4666-9bf6-319dee903ab6"
      },
      "outputs": [],
      "source": [
        "# Check dataset size\n",
        "n_train = len(train_dataset)\n",
        "n_test = len(test_dataset)\n",
        "\n",
        "print(f\"Number of training examples: {n_train}\")\n",
        "print(f\"Number of testing examples: {n_test}\")\n",
        "print(f\"Each image is of size: {IMAGE_SIZE}\")"
      ]
    },
    {
      "cell_type": "code",
      "execution_count": null,
      "id": "29ff6d3d-8973-4013-9e15-bdf68d3f3a7d",
      "metadata": {
        "colab": {
          "base_uri": "https://localhost:8080/",
          "height": 428
        },
        "id": "29ff6d3d-8973-4013-9e15-bdf68d3f3a7d",
        "outputId": "15b56199-1ec4-46c0-9f89-931613f3658a"
      },
      "outputs": [],
      "source": [
        "# Visualizing the dataset\n",
        "def display_random_image(loader, class_names):\n",
        "    \"\"\"\n",
        "    Display a random image from the dataset and its corresponding label.\n",
        "    \"\"\"\n",
        "    # Get a batch of data\n",
        "    dataiter = iter(loader)\n",
        "    images, labels = next(dataiter)  # Use Python's built-in next() function\n",
        "\n",
        "    index = np.random.randint(len(labels))  # Get a random index\n",
        "    image = images[index].numpy().transpose(1, 2, 0)  # Transpose for correct display\n",
        "\n",
        "    # Unnormalize the image for correct visualization (reverse of normalization)\n",
        "    image = image * np.array([0.229, 0.224, 0.225]) + np.array([0.485, 0.456, 0.406])\n",
        "    image = np.clip(image, 0, 1)  # Clip to ensure valid pixel range\n",
        "\n",
        "    plt.figure()\n",
        "    plt.imshow(image)\n",
        "    plt.xticks([])\n",
        "    plt.yticks([])\n",
        "    plt.grid(False)\n",
        "    plt.title(f'Image #{index} : {class_names[labels[index]]}')\n",
        "    plt.show()\n",
        "\n",
        "# Call the function\n",
        "display_random_image(train_loader, class_names)\n"
      ]
    },
    {
      "cell_type": "code",
      "execution_count": null,
      "id": "65888c0e-310b-411c-a8a6-5f130742ce5d",
      "metadata": {
        "colab": {
          "base_uri": "https://localhost:8080/",
          "height": 516
        },
        "id": "65888c0e-310b-411c-a8a6-5f130742ce5d",
        "outputId": "ae27fed1-c78f-41d7-a442-a741a0293055"
      },
      "outputs": [],
      "source": [
        "# Plotting dataset distribution\n",
        "train_labels = [label for _, label in train_dataset]\n",
        "test_labels = [label for _, label in test_dataset]\n",
        "_, train_counts = np.unique(train_labels, return_counts=True)\n",
        "_, test_counts = np.unique(test_labels, return_counts=True)\n",
        "pd.DataFrame({'train': train_counts,\n",
        "              'test': test_counts}, index=class_names).plot.bar()\n",
        "plt.show()"
      ]
    },
    {
      "cell_type": "code",
      "execution_count": null,
      "id": "3b9f2cae-ade2-4225-bddf-b5b8bcc64ce1",
      "metadata": {
        "id": "3b9f2cae-ade2-4225-bddf-b5b8bcc64ce1"
      },
      "outputs": [],
      "source": [
        "def display_examples(class_names, loader):\n",
        "    num_examples = 30\n",
        "    dataiter = iter(loader)\n",
        "    images, labels = next(dataiter)\n",
        "\n",
        "    plt.figure(figsize=(10, 10))\n",
        "    for i in range(min(num_examples, len(images))):\n",
        "        plt.subplot(6, 5, i + 1)\n",
        "        plt.xticks([])\n",
        "        plt.yticks([])\n",
        "        plt.grid(False)\n",
        "\n",
        "        # Convert tensor to numpy and clip values to [0, 1] range for imshow\n",
        "        image = images[i].numpy().transpose(1, 2, 0)\n",
        "        image = np.clip(image, 0, 1)  # Clipping values to the valid range\n",
        "\n",
        "        plt.imshow(image)\n",
        "        plt.xlabel(class_names[labels[i].item()])\n",
        "    plt.show()\n"
      ]
    },
    {
      "cell_type": "code",
      "execution_count": null,
      "id": "4e9ce61b-19f5-4df1-909d-0ba5814511e5",
      "metadata": {
        "colab": {
          "base_uri": "https://localhost:8080/",
          "height": 826
        },
        "id": "4e9ce61b-19f5-4df1-909d-0ba5814511e5",
        "outputId": "dea1f537-d43d-4846-e7b7-bf74450fe703"
      },
      "outputs": [],
      "source": [
        "display_examples(class_names, train_loader)"
      ]
    },
    {
      "cell_type": "code",
      "execution_count": null,
      "id": "5gEj5H6G67DI",
      "metadata": {
        "id": "5gEj5H6G67DI"
      },
      "outputs": [],
      "source": [
        "import os\n",
        "os.environ['TORCH_USE_CUDA_DSA'] = \"1\"\n",
        "\n",
        "# Your PyTorch code here\n"
      ]
    },
    {
      "cell_type": "code",
      "execution_count": null,
      "id": "svBTympW9JUF",
      "metadata": {
        "colab": {
          "base_uri": "https://localhost:8080/"
        },
        "id": "svBTympW9JUF",
        "outputId": "2e0ec8c3-a268-4fd9-a9b2-f867bf6d81d1"
      },
      "outputs": [],
      "source": [
        "!pip install torch==2.0.0+cu118 torchvision==0.15.0+cu118 torchaudio==2.0.0+cu118 -f https://download.pytorch.org/whl/cu118/torch_stable.html\n"
      ]
    },
    {
      "cell_type": "code",
      "execution_count": null,
      "id": "37550cad-147c-42de-a8d5-61c07e2775a0",
      "metadata": {
        "colab": {
          "base_uri": "https://localhost:8080/"
        },
        "id": "37550cad-147c-42de-a8d5-61c07e2775a0",
        "outputId": "53ef4849-38c3-444c-cfe6-c2c50f10394b"
      },
      "outputs": [],
      "source": [
        "import torch\n",
        "import torch.nn as nn\n",
        "import torch.optim as optim\n",
        "from torch.utils.data import DataLoader, Dataset\n",
        "from torchvision import transforms\n",
        "from PIL import Image\n",
        "import os\n",
        "import numpy as np\n",
        "\n",
        "# Define Custom Dataset\n",
        "class ImageDataset(Dataset):\n",
        "    def __init__(self, root_dir, transform=None):\n",
        "        \"\"\"\n",
        "        Args:\n",
        "            root_dir (string): Directory with all the images.\n",
        "            transform (callable, optional): Optional transform to be applied on a sample.\n",
        "        \"\"\"\n",
        "        self.root_dir = root_dir\n",
        "        self.transform = transform\n",
        "        self.image_paths = []\n",
        "        self.labels = []\n",
        "\n",
        "        # Collect all image paths and labels\n",
        "        for label in os.listdir(root_dir):\n",
        "            label_dir = os.path.join(root_dir, label)\n",
        "            if os.path.isdir(label_dir):\n",
        "                for img_name in os.listdir(label_dir):\n",
        "                    self.image_paths.append(os.path.join(label_dir, img_name))\n",
        "                    self.labels.append(label)\n",
        "\n",
        "        self.labels = np.array(self.labels)\n",
        "        self.unique_labels = list(set(self.labels))\n",
        "        self.label_to_index = {label: idx for idx, label in enumerate(self.unique_labels)}\n",
        "\n",
        "        # Convert labels to indices\n",
        "        self.labels = np.array([self.label_to_index[label] for label in self.labels])\n",
        "\n",
        "    def __len__(self):\n",
        "        return len(self.image_paths)\n",
        "\n",
        "    def __getitem__(self, idx):\n",
        "        img_path = self.image_paths[idx]\n",
        "        image = Image.open(img_path).convert('RGB')\n",
        "        label = self.labels[idx]\n",
        "\n",
        "        if self.transform:\n",
        "            image = self.transform(image)\n",
        "\n",
        "        return image, label\n",
        "\n",
        "# Define Transforms\n",
        "transform = transforms.Compose([\n",
        "    transforms.Resize((32, 32)),  # Resize images to 32x32 (adjust if needed)\n",
        "    transforms.ToTensor(),\n",
        "    transforms.Normalize((0.5, 0.5, 0.5), (0.5, 0.5, 0.5))\n",
        "])\n",
        "\n",
        "# Define VAE Model\n",
        "class VAE(nn.Module):\n",
        "    def __init__(self):\n",
        "        super(VAE, self).__init__()\n",
        "        self.conv1 = nn.Conv2d(3, 32, kernel_size=4, stride=2, padding=1)\n",
        "        self.conv2 = nn.Conv2d(32, 64, kernel_size=4, stride=2, padding=1)\n",
        "        self.conv3 = nn.Conv2d(64, 128, kernel_size=4, stride=2, padding=1)\n",
        "\n",
        "        # Calculate output dimension after convolutions\n",
        "        self.fc1_input_dim = self._conv2d_output_dim(32, 4, 2, 1, 32)  # Assuming input images are 32x32\n",
        "        self.fc1_input_dim = self._conv2d_output_dim(64, 4, 2, 1, self.fc1_input_dim)\n",
        "        self.fc1_input_dim = self._conv2d_output_dim(128, 4, 2, 1, self.fc1_input_dim)\n",
        "\n",
        "        print(f'VAE fc1_input_dim: {self.fc1_input_dim}')  # Debug statement\n",
        "\n",
        "        # Adjust the input dimension for fc1\n",
        "        self.fc1 = nn.Linear(128 * self.fc1_input_dim * self.fc1_input_dim, 256)\n",
        "        self.fc2 = nn.Linear(256, 20)\n",
        "        self.fc3 = nn.Linear(256, 20)\n",
        "        self.fc4 = nn.Linear(20, 256)\n",
        "        self.fc5 = nn.Linear(256, 128 * self.fc1_input_dim * self.fc1_input_dim)\n",
        "\n",
        "        self.deconv1 = nn.ConvTranspose2d(128, 64, kernel_size=4, stride=2, padding=1)\n",
        "        self.deconv2 = nn.ConvTranspose2d(64, 32, kernel_size=4, stride=2, padding=1)\n",
        "        self.deconv3 = nn.ConvTranspose2d(32, 3, kernel_size=4, stride=2, padding=1)\n",
        "\n",
        "    def _conv2d_output_dim(self, in_channels, kernel_size, stride, padding, input_dim):\n",
        "        return (input_dim - kernel_size + 2 * padding) // stride + 1\n",
        "\n",
        "    def encode(self, x):\n",
        "        x = torch.relu(self.conv1(x))\n",
        "        x = torch.relu(self.conv2(x))\n",
        "        x = torch.relu(self.conv3(x))\n",
        "        print(f'Encoded x shape: {x.shape}')  # Debug statement\n",
        "        x = x.view(-1, 128 * self.fc1_input_dim * self.fc1_input_dim)\n",
        "        h = torch.relu(self.fc1(x))\n",
        "        return self.fc2(h), self.fc3(h)\n",
        "\n",
        "    def reparameterize(self, mu, logvar):\n",
        "        std = torch.exp(0.5 * logvar)\n",
        "        eps = torch.randn_like(std)\n",
        "        return mu + eps * std\n",
        "\n",
        "    def decode(self, z):\n",
        "        h = torch.relu(self.fc4(z))\n",
        "        h = torch.relu(self.fc5(h))\n",
        "        h = h.view(-1, 128, self.fc1_input_dim, self.fc1_input_dim)\n",
        "        print(f'Decoded h shape: {h.shape}')  # Debug statement\n",
        "        h = torch.relu(self.deconv1(h))\n",
        "        h = torch.relu(self.deconv2(h))\n",
        "        return torch.sigmoid(self.deconv3(h))\n",
        "\n",
        "    def forward(self, x):\n",
        "        mu, logvar = self.encode(x)\n",
        "        z = self.reparameterize(mu, logvar)\n",
        "        return self.decode(z), mu, logvar\n",
        "\n",
        "# Define Loss Function for VAE\n",
        "def loss_function(recon_x, x, mu, logvar):\n",
        "    BCE = nn.functional.binary_cross_entropy(recon_x, x, reduction='sum')\n",
        "    KLD = -0.5 * torch.sum(1 + logvar - mu.pow(2) - logvar.exp())\n",
        "    return BCE + KLD\n",
        "\n",
        "# Training the VAE\n",
        "def train_vae(model, train_loader, epochs=20, lr=1e-3):\n",
        "    optimizer = optim.Adam(model.parameters(), lr=lr)\n",
        "    model.train()\n",
        "\n",
        "    for epoch in range(epochs):\n",
        "        train_loss = 0\n",
        "        for batch_idx, (data, _) in enumerate(train_loader):\n",
        "            data = data.cuda()  # Move data to GPU\n",
        "            optimizer.zero_grad()\n",
        "            recon_batch, mu, logvar = model(data)\n",
        "            loss = loss_function(recon_batch, data, mu, logvar)\n",
        "            loss.backward()\n",
        "            train_loss += loss.item()\n",
        "            optimizer.step()\n",
        "\n",
        "        print(f'Epoch {epoch + 1}/{epochs}, Loss: {train_loss / len(train_loader.dataset)}')\n",
        "\n",
        "# Define Classifier Model\n",
        "class Classifier(nn.Module):\n",
        "    def __init__(self, nb_classes):\n",
        "        super(Classifier, self).__init__()\n",
        "        self.fc1 = nn.Linear(20, 128)\n",
        "        self.fc2 = nn.Linear(128, nb_classes)\n",
        "\n",
        "    def forward(self, x):\n",
        "        x = torch.relu(self.fc1(x))\n",
        "        return self.fc2(x)\n",
        "\n",
        "# Training the Classifier\n",
        "def train_classifier(classifier, vae, train_loader, epochs=10, lr=1e-3):\n",
        "    optimizer = optim.Adam(classifier.parameters(), lr=lr)\n",
        "    criterion = nn.CrossEntropyLoss()\n",
        "    classifier.train()\n",
        "\n",
        "    for epoch in range(epochs):\n",
        "        classifier_loss = 0\n",
        "        for data, target in train_loader:\n",
        "            data, target = data.cuda(), target.cuda()  # Move data and target to GPU\n",
        "            if target.min() < 0 or target.max() >= nb_classes:\n",
        "                print(f'Invalid target labels: {target}')  # Debug statement\n",
        "            optimizer.zero_grad()\n",
        "            mu, _ = vae.encode(data)\n",
        "            output = classifier(mu)\n",
        "            loss = criterion(output, target)\n",
        "            loss.backward()\n",
        "            classifier_loss += loss.item()\n",
        "            optimizer.step()\n",
        "\n",
        "        print(f'Epoch {epoch + 1}/{epochs}, Classification Loss: {classifier_loss / len(train_loader.dataset)}')\n",
        "\n",
        "# Evaluate the Classifier\n",
        "def evaluate_classifier(classifier, vae, test_loader):\n",
        "    classifier.eval()\n",
        "    vae.eval()\n",
        "\n",
        "    correct = 0\n",
        "    total = 0\n",
        "\n",
        "    with torch.no_grad():\n",
        "        for data, target in test_loader:\n",
        "            data, target = data.cuda(), target.cuda()  # Move data and target to GPU\n",
        "            mu, _ = vae.encode(data)\n",
        "            output = classifier(mu)\n",
        "            _, predicted = torch.max(output.data, 1)\n",
        "            total += target.size(0)\n",
        "            correct += (predicted == target).sum().item()\n",
        "\n",
        "    print(f'Accuracy: {100 * correct / total:.2f}%')\n",
        "\n",
        "# Main script\n",
        "if __name__ == \"__main__\":\n",
        "    # Set paths to your dataset directories\n",
        "    train_dir = 'path/to/your/train_data'  # User should replace this\n",
        "    test_dir = 'path/to/your/test_data'  # User should replace this\n",
        "\n",
        "    # Create datasets\n",
        "    train_dataset = ImageDataset(root_dir=train_dir, transform=transform)\n",
        "    test_dataset = ImageDataset(root_dir=test_dir, transform=transform)\n",
        "\n",
        "    # Create data loaders\n",
        "    train_loader = DataLoader(train_dataset, batch_size=64, shuffle=True)\n",
        "    test_loader = DataLoader(test_dataset, batch_size=64, shuffle=False)\n",
        "\n",
        "    # Instantiate and train the VAE\n",
        "    vae = VAE().cuda()\n",
        "    train_vae(vae, train_loader)\n",
        "\n"
      ]
    },
    {
      "cell_type": "code",
      "execution_count": null,
      "id": "7701de6a-3c19-4608-8988-aae171d984a7",
      "metadata": {
        "colab": {
          "base_uri": "https://localhost:8080/",
          "height": 424
        },
        "id": "7701de6a-3c19-4608-8988-aae171d984a7",
        "outputId": "2196a9e7-32ba-4b50-cab1-e2f0b2c9965c"
      },
      "outputs": [],
      "source": [
        "import torch\n",
        "from torchvision import transforms\n",
        "from PIL import Image\n",
        "import matplotlib.pyplot as plt\n",
        "\n",
        "# Define your transforms (same as used during training)\n",
        "transform = transforms.Compose([\n",
        "    transforms.Resize((32, 32)),\n",
        "    transforms.ToTensor(),\n",
        "    transforms.Normalize((0.5, 0.5, 0.5), (0.5, 0.5, 0.5))\n",
        "])\n",
        "\n",
        "# Define class names (should match the training classes)\n",
        "class_names = ['glioma_tumor','meningioma_tumor','no_tumor','pituitary_tumor']  # Replace with actual class names\n",
        "\n",
        "# Define the VAE and Classifier models\n",
        "vae = VAE().cuda()\n",
        "classifier = Classifier(nb_classes=len(class_names)).cuda()  # Ensure nb_classes is set correctly\n",
        "\n",
        "# Load pre-trained model weights if you have them\n",
        "# vae.load_state_dict(torch.load('path_to_vae_weights.pth'))\n",
        "# classifier.load_state_dict(torch.load('path_to_classifier_weights.pth'))\n",
        "\n",
        "# Function to load and preprocess a single image\n",
        "def load_and_preprocess_image(image_path, transform):\n",
        "    image = Image.open(image_path).convert('RGB')\n",
        "    image = transform(image).unsqueeze(0)  # Add batch dimension\n",
        "    return image\n",
        "\n",
        "# Function to predict class label of a single image\n",
        "def predict_image(image_path, vae, classifier, transform, class_names):\n",
        "    # Load and preprocess the image\n",
        "    image = load_and_preprocess_image(image_path, transform)\n",
        "\n",
        "    # Ensure the models are in evaluation mode\n",
        "    vae.eval()\n",
        "    classifier.eval()\n",
        "\n",
        "    with torch.no_grad():\n",
        "        # Move image to the same device as the models\n",
        "        image = image.cuda()\n",
        "\n",
        "        # Encode the image using VAE\n",
        "        mu, _ = vae.encode(image)\n",
        "\n",
        "        # Classify the latent representation\n",
        "        output = classifier(mu)\n",
        "\n",
        "        # Get the predicted class\n",
        "        _, predicted = torch.max(output.data, 1)\n",
        "        predicted_class = class_names[predicted.item()]\n",
        "\n",
        "    return predicted_class\n",
        "\n",
        "# Function to display an image\n",
        "def display_image(image_path, predicted_class):\n",
        "    image = Image.open(image_path)\n",
        "    plt.imshow(image)\n",
        "    plt.title(f'Predicted Class: {predicted_class}')\n",
        "    plt.axis('off')  # Hide axis\n",
        "    plt.show()\n",
        "\n",
        "# Path to the image you want to classify\n",
        "image_path = '/content/drive/MyDrive/Colab Notebooks/ccatract detection using VAEs/test/retina_disease/Retina_052.png'\n",
        "\n",
        "# Perform the prediction\n",
        "predicted_class = predict_image(image_path, vae, classifier, transform, class_names)\n",
        "\n",
        "# Display the image along with the prediction\n",
        "display_image(image_path, predicted_class)\n"
      ]
    },
    {
      "cell_type": "code",
      "execution_count": null,
      "id": "VEirNt8ZFoFI",
      "metadata": {
        "id": "VEirNt8ZFoFI"
      },
      "outputs": [],
      "source": []
    }
  ],
  "metadata": {
    "accelerator": "GPU",
    "colab": {
      "gpuType": "T4",
      "provenance": []
    },
    "kernelspec": {
      "display_name": "Python 3",
      "name": "python3"
    },
    "language_info": {
      "codemirror_mode": {
        "name": "ipython",
        "version": 3
      },
      "file_extension": ".py",
      "mimetype": "text/x-python",
      "name": "python",
      "nbconvert_exporter": "python",
      "pygments_lexer": "ipython3",
      "version": "3.9.19"
    }
  },
  "nbformat": 4,
  "nbformat_minor": 5
}
